{
 "cells": [
  {
   "cell_type": "markdown",
   "metadata": {},
   "source": [
    "# Face Recognition\n",
    "\n"
   ]
  },
  {
   "cell_type": "code",
   "execution_count": 1,
   "metadata": {},
   "outputs": [
    {
     "name": "stderr",
     "output_type": "stream",
     "text": [
      "Using TensorFlow backend.\n"
     ]
    }
   ],
   "source": [
    "from keras.models import Sequential\n",
    "from keras.layers import Conv2D, ZeroPadding2D, Activation, Input, concatenate\n",
    "from keras.models import Model\n",
    "from keras.layers.normalization import BatchNormalization\n",
    "from keras.layers.pooling import MaxPooling2D, AveragePooling2D\n",
    "from keras.layers.merge import Concatenate\n",
    "from keras.layers.core import Lambda, Flatten, Dense\n",
    "from keras.engine.topology import Layer\n",
    "from keras import backend as K\n",
    "K.set_image_data_format('channels_first')\n",
    "import cv2\n",
    "import os\n",
    "import numpy as np\n",
    "from numpy import genfromtxt\n",
    "import pandas as pd\n",
    "import tensorflow as tf\n",
    "from fr_utils import *\n",
    "from inception_blocks import *\n",
    "\n",
    "%matplotlib inline\n",
    "%load_ext autoreload\n",
    "%autoreload 2\n",
    "\n",
    "np.set_printoptions(threshold=np.nan)"
   ]
  },
  {
   "cell_type": "code",
   "execution_count": 2,
   "metadata": {
    "collapsed": true
   },
   "outputs": [],
   "source": [
    "def faceRecoModel(input_shape):\n",
    "    \"\"\"\n",
    "    Implementation of the Inception model used for FaceNet\n",
    "    \n",
    "    Arguments:\n",
    "    input_shape -- shape of the images of the dataset\n",
    "\n",
    "    Returns:\n",
    "    model -- a Model() instance in Keras\n",
    "    \"\"\"\n",
    "        \n",
    "    # Define the input as a tensor with shape input_shape\n",
    "    X_input = Input(input_shape)\n",
    "\n",
    "    # Zero-Padding\n",
    "    X = ZeroPadding2D((3, 3))(X_input)\n",
    "    \n",
    "    # First Block\n",
    "    X = Conv2D(64, (7, 7), strides = (2, 2), name = 'conv1')(X)\n",
    "    X = BatchNormalization(axis = 1, name = 'bn1')(X)\n",
    "    X = Activation('relu')(X)\n",
    "    \n",
    "    # Zero-Padding + MAXPOOL\n",
    "    X = ZeroPadding2D((1, 1))(X)\n",
    "    X = MaxPooling2D((3, 3), strides = 2)(X)\n",
    "    \n",
    "    # Second Block\n",
    "    X = Conv2D(64, (1, 1), strides = (1, 1), name = 'conv2')(X)\n",
    "    X = BatchNormalization(axis = 1, epsilon=0.00001, name = 'bn2')(X)\n",
    "    X = Activation('relu')(X)\n",
    "    \n",
    "    # Zero-Padding + MAXPOOL\n",
    "    X = ZeroPadding2D((1, 1))(X)\n",
    "\n",
    "    # Second Block\n",
    "    X = Conv2D(192, (3, 3), strides = (1, 1), name = 'conv3')(X)\n",
    "    X = BatchNormalization(axis = 1, epsilon=0.00001, name = 'bn3')(X)\n",
    "    X = Activation('relu')(X)\n",
    "    \n",
    "    # Zero-Padding + MAXPOOL\n",
    "    X = ZeroPadding2D((1, 1))(X)\n",
    "    X = MaxPooling2D(pool_size = 3, strides = 2)(X)\n",
    "    \n",
    "    # Inception 1: a/b/c\n",
    "    X = inception_block_1a(X)\n",
    "    X = inception_block_1b(X)\n",
    "    X = inception_block_1c(X)\n",
    "    \n",
    "    # Inception 2: a/b\n",
    "    X = inception_block_2a(X)\n",
    "    X = inception_block_2b(X)\n",
    "    \n",
    "    # Inception 3: a/b\n",
    "    X = inception_block_3a(X)\n",
    "    X = inception_block_3b(X)\n",
    "    \n",
    "    # Top layer\n",
    "    X = AveragePooling2D(pool_size=(3, 3), strides=(1, 1), data_format='channels_first')(X)\n",
    "    X = Flatten()(X)\n",
    "    X = Dense(128, name='dense_layer')(X)\n",
    "    \n",
    "    # L2 normalization\n",
    "    X = Lambda(lambda  x: K.l2_normalize(x,axis=1))(X)\n",
    "\n",
    "    # Create model instance\n",
    "    model = Model(inputs = X_input, outputs = X, name='FaceRecoModel')\n",
    "        \n",
    "    return model"
   ]
  },
  {
   "cell_type": "code",
   "execution_count": 3,
   "metadata": {
    "collapsed": true
   },
   "outputs": [],
   "source": [
    "FRmodel = faceRecoModel(input_shape=(3, 96, 96))"
   ]
  },
  {
   "cell_type": "code",
   "execution_count": 4,
   "metadata": {
    "collapsed": true
   },
   "outputs": [],
   "source": [
    "def triplet_loss(y_true, y_pred, alpha = 0.2):\n",
    "    \"\"\"\n",
    "    Implementation of the triplet loss as defined by formula (3)\n",
    "    \n",
    "    Arguments:\n",
    "    y_true -- true labels, here it is a dummy variable required by Keras\n",
    "    y_pred -- python list containing three objects:\n",
    "            anchor -- the embeddings for the anchor images, of shape (None, 128)\n",
    "            positive -- the embeddings for the positive images, of shape (None, 128)\n",
    "            negative -- the embeddings for the negative images, of shape (None, 128)\n",
    "    \n",
    "    Returns:\n",
    "    loss -- real number, value of the loss\n",
    "    \"\"\"\n",
    "    \n",
    "    anchor, positive, negative = y_pred[0], y_pred[1], y_pred[2]\n",
    "    \n",
    "   \n",
    "    pos_dist = tf.reduce_sum(tf.square(tf.subtract(anchor, positive)))\n",
    "    neg_dist = tf.reduce_sum(tf.square(tf.subtract(anchor, negative)))\n",
    "\n",
    "    basic_loss = tf.add(tf.subtract(pos_dist,neg_dist), alpha)\n",
    "    loss = tf.reduce_mean(tf.maximum(basic_loss, 0.0))\n",
    "   \n",
    "    \n",
    "    return loss"
   ]
  },
  {
   "cell_type": "code",
   "execution_count": 5,
   "metadata": {
    "collapsed": true
   },
   "outputs": [],
   "source": [
    "FRmodel.compile(optimizer = 'adam', loss = triplet_loss, metrics = ['accuracy'])"
   ]
  },
  {
   "cell_type": "code",
   "execution_count": 6,
   "metadata": {
    "collapsed": true
   },
   "outputs": [],
   "source": [
    "load_weights_from_FaceNet(FRmodel)"
   ]
  },
  {
   "cell_type": "code",
   "execution_count": 8,
   "metadata": {},
   "outputs": [
    {
     "name": "stdout",
     "output_type": "stream",
     "text": [
      "number of training examples = 426\n",
      "number of test examples = 150\n",
      "X_train shape: (426, 3, 96, 96)\n",
      "Y_train shape: (426, 1)\n",
      "X_test shape: (150, 3, 64, 64)\n",
      "Y_test shape: (150, 1)\n"
     ]
    }
   ],
   "source": [
    "X_train_orig, Y_train_orig, X_test_orig, Y_test_orig, classes = load_dataset()\n",
    "\n",
    "# Normalize image vectors\n",
    "X_train = X_train_orig/255.\n",
    "X_test = X_test_orig/255.\n",
    "\n",
    "# Reshape\n",
    "Y_train = Y_train_orig.T\n",
    "Y_test = Y_test_orig.T\n",
    "\n",
    "X_train = X_train.transpose((0, 3, 1, 2))\n",
    "X_test = X_test.transpose((0, 3, 1, 2))\n",
    "#Y_train = Y_train.transpose()\n",
    "#Y_test = Y_test.transpose((0, 3, 1, 2))\n",
    "\n",
    "print (\"number of training examples = \" + str(X_train.shape[0]))\n",
    "print (\"number of test examples = \" + str(X_test.shape[0]))\n",
    "print (\"X_train shape: \" + str(X_train.shape))\n",
    "print (\"Y_train shape: \" + str(Y_train.shape))\n",
    "print (\"X_test shape: \" + str(X_test.shape))\n",
    "print (\"Y_test shape: \" + str(Y_test.shape))"
   ]
  },
  {
   "cell_type": "code",
   "execution_count": 33,
   "metadata": {
    "scrolled": true
   },
   "outputs": [
    {
     "name": "stdout",
     "output_type": "stream",
     "text": [
      "y = [b'felix']\n"
     ]
    },
    {
     "data": {
      "image/png": "[encoded data removed]",
      "text/plain": [
       "<matplotlib.figure.Figure at 0x7f241a3beef0>"
      ]
     },
     "metadata": {},
     "output_type": "display_data"
    }
   ],
   "source": [
    "# Example of a picture\n",
    "index = 12\n",
    "plt.imshow(X_train.transpose((0,2,3,1))[index])\n",
    "print (\"y = \" + str(Y_train[index, :]))"
   ]
  },
  {
   "cell_type": "code",
   "execution_count": 99,
   "metadata": {
    "collapsed": true
   },
   "outputs": [],
   "source": [
    "# Build database from X_train and Y_train\n",
    "# database.shape = (m, 128)\n",
    "\n",
    "m = X_train.shape[0]\n",
    "database_emb = np.zeros((m, 128))\n",
    "database_names = Y_train\n",
    "\n",
    "for i in range(m):\n",
    "    image = X_train[i,:,:,:]\n",
    "    embedding = img1_to_embedding(image)\n",
    "    database_emb[i,:] = embedding"
   ]
  },
  {
   "cell_type": "code",
   "execution_count": 105,
   "metadata": {},
   "outputs": [
    {
     "name": "stdout",
     "output_type": "stream",
     "text": [
      "(96, 96, 3)\n"
     ]
    }
   ],
   "source": [
    "#KNN on database with new image\n",
    "new_emb = img_to_embedding(\"images/test_4.jpg\")"
   ]
  },
  {
   "cell_type": "code",
   "execution_count": null,
   "metadata": {
    "collapsed": true
   },
   "outputs": [],
   "source": [
    "def img_to_embedding(image_path):\n",
    "    img1 = cv2.imread(image_path, 1)\n",
    "    img = img1[...,::-1]\n",
    "    img = np.around(np.transpose(img, (2,0,1))/255.0, decimals=12)\n",
    "    x_train = np.array([img])\n",
    "    embedding = FRmodel.predict_on_batch(x_train)\n",
    "    return embedding"
   ]
  },
  {
   "cell_type": "code",
   "execution_count": 59,
   "metadata": {
    "collapsed": true
   },
   "outputs": [],
   "source": [
    "def img1_to_embedding(img1):\n",
    "    img = img1[...,::-1]\n",
    "    img = np.around(np.transpose(img, (0,1,2))/255.0, decimals=12)\n",
    "    x_train = np.array([img])\n",
    "    embedding = FRmodel.predict_on_batch(x_train)\n",
    "    return embedding"
   ]
  },
  {
   "cell_type": "code",
   "execution_count": 43,
   "metadata": {
    "collapsed": true
   },
   "outputs": [],
   "source": [
    "def verify(image_path, identity):\n",
    "    \"\"\"\n",
    "    Function that verifies if the person on the \"image_path\" image is \"identity\".\n",
    "    \n",
    "    Arguments:\n",
    "    image_path -- path to an image\n",
    "    identity -- string, name of the person you'd like to verify the identity. Has to be a resident of the Happy house.\n",
    "    X_train --\n",
    "    Y_train --\n",
    "    \n",
    "    Returns:\n",
    "    dist --\n",
    "    door_open -- True, if the door should open. False otherwise.\n",
    "    \"\"\"\n",
    "    \n",
    "    # Compute the embedding for the image\n",
    "    embedding = img_to_embedding(image_path)\n",
    "    \n",
    "    # Compute distance with identity's image\n",
    "    dist = np.linalg.norm(database[identity] - embedding)\n",
    "    \n",
    "    if dist < 0.5:\n",
    "        print(\"It's \" + str(identity) + \", welcome home!\")\n",
    "        door_open = True\n",
    "    else:\n",
    "        print(\"It's not \" + str(identity) + \", please go away\")\n",
    "        door_open = False\n",
    "        \n",
    "    return dist, door_open"
   ]
  },
  {
   "cell_type": "code",
   "execution_count": 44,
   "metadata": {},
   "outputs": [
    {
     "name": "stdout",
     "output_type": "stream",
     "text": [
      "It's not kian, please go away\n"
     ]
    },
    {
     "data": {
      "text/plain": [
       "(0.56844276, False)"
      ]
     },
     "execution_count": 44,
     "metadata": {},
     "output_type": "execute_result"
    }
   ],
   "source": [
    "verify(\"images/test_4.jpg\", \"kian\")"
   ]
  },
  {
   "cell_type": "code",
   "execution_count": 50,
   "metadata": {
    "collapsed": true
   },
   "outputs": [],
   "source": [
    "img1 = cv2.imread('images/test_a.jpg', 1)\n",
    "img2 = cv2.imread('images/test_p.jpg', 1)\n",
    "img3 = cv2.imread('images/test_n.jpg', 1)"
   ]
  },
  {
   "cell_type": "code",
   "execution_count": 51,
   "metadata": {},
   "outputs": [
    {
     "name": "stdout",
     "output_type": "stream",
     "text": [
      "[[ 0.00610059  0.11566171 -0.00177123 -0.090833    0.13567021  0.09768677\n",
      "   0.01841084 -0.08207355 -0.11215911  0.05328089  0.07175611  0.02912529\n",
      "   0.05609871  0.10683104  0.12721466 -0.00216605  0.05609728 -0.00599007\n",
      "   0.0385747   0.11521572 -0.01536404  0.09386739 -0.02352911  0.04414971\n",
      "  -0.03710434  0.03495996 -0.05916371  0.00561567  0.18412335  0.07763874\n",
      "  -0.05576427  0.01676263  0.012035   -0.01562952  0.05462734  0.1523089\n",
      "   0.0701123   0.05997399  0.04711723  0.01265215  0.02827886  0.05478783\n",
      "  -0.03218067 -0.10073175 -0.1300763   0.1810675   0.12382702  0.03349272\n",
      "  -0.15927674 -0.08743747 -0.12679778  0.04466631 -0.04483489 -0.00046972\n",
      "   0.05468227  0.06561024 -0.09758288  0.15862644 -0.19626425  0.1000212\n",
      "  -0.12070439  0.06497399  0.17567953 -0.15054919  0.11386677  0.12561136\n",
      "   0.01864593  0.06938928 -0.09037534 -0.01233921  0.10075031  0.06063951\n",
      "  -0.03548513 -0.00497482  0.14001766  0.10394157 -0.02689088  0.0444579\n",
      "   0.07950066 -0.14740102  0.02691601  0.14931501 -0.05321318  0.01272688\n",
      "  -0.01414429  0.03445601 -0.00107957  0.03555656 -0.03392959  0.12479555\n",
      "   0.15608653 -0.069876   -0.00227577  0.15716566  0.02354713 -0.1244261\n",
      "  -0.00833013 -0.01562924  0.06603438 -0.01254892 -0.02793496 -0.02287826\n",
      "  -0.0640041  -0.06712665 -0.18976882  0.24509664  0.02884098 -0.06923404\n",
      "   0.06076426 -0.03350437  0.07617636  0.01993498  0.02147606  0.02872328\n",
      "   0.02427995  0.00723362 -0.16747746 -0.05970817 -0.07288235  0.05789869\n",
      "   0.01239895 -0.10066198  0.00280725  0.07970503 -0.04571236  0.21264097\n",
      "  -0.01789082 -0.09926546]]\n"
     ]
    }
   ],
   "source": [
    "# Read a sample image as input to test the model\n",
    "img = img1[...,::-1]\n",
    "img = np.around(np.transpose(img, (2,0,1))/255.0, decimals=12)\n",
    "x_train = np.array([img])\n",
    "y_a = FRmodel.predict_on_batch(x_train)\n",
    "print (y_a)"
   ]
  },
  {
   "cell_type": "code",
   "execution_count": 48,
   "metadata": {},
   "outputs": [
    {
     "name": "stdout",
     "output_type": "stream",
     "text": [
      "[[ 0.01818656  0.02700492 -0.00859873 -0.1201554   0.10532109  0.13274175\n",
      "   0.00348462  0.06485419 -0.12927984 -0.00593032  0.08673079  0.0156037\n",
      "   0.10140105  0.1108925   0.15975112 -0.03096326  0.02508822 -0.10615048\n",
      "   0.03048315  0.13826394  0.03051662  0.02462634  0.03731925  0.07380977\n",
      "  -0.01428815 -0.0009637  -0.01613241 -0.02908552  0.17269117 -0.01726908\n",
      "   0.02895273 -0.06105087 -0.00486803  0.02912608 -0.06070314  0.16051\n",
      "   0.02219277  0.06831796  0.01741958  0.07973866  0.06959903  0.04030627\n",
      "  -0.09389094 -0.07651751 -0.13772598  0.0353765   0.0910139   0.01779893\n",
      "  -0.10743764 -0.04273626 -0.19518903 -0.01490634 -0.06164162  0.01628605\n",
      "   0.00486952  0.07379046 -0.10000522  0.21943849 -0.17197922  0.04702061\n",
      "  -0.16265158  0.084457    0.17762101 -0.16786881  0.06083988  0.17002273\n",
      "   0.0677102   0.06299251 -0.0504337  -0.06641199  0.04205873  0.09809638\n",
      "  -0.0501834   0.02378977  0.18221502  0.04516293 -0.00563662  0.02183324\n",
      "   0.08732323 -0.02305888 -0.03903836  0.02825055 -0.01771187 -0.01100676\n",
      "  -0.01864918  0.07232142  0.05393857  0.05461881 -0.01942857  0.02143941\n",
      "   0.18320897 -0.09244272  0.00583664  0.14280817  0.03164415 -0.14611426\n",
      "  -0.04543712  0.00215629  0.00956925  0.01728006 -0.09086661 -0.08835237\n",
      "  -0.07173156 -0.0202804  -0.19354118  0.27038318 -0.01219507 -0.03912296\n",
      "   0.03668503 -0.10848452  0.03640038  0.07756026  0.00603777  0.03967358\n",
      "   0.04041182  0.04737711 -0.12219615 -0.03526566 -0.02144359  0.1099939\n",
      "  -0.01672835 -0.11463521 -0.03936986  0.10620002 -0.09562854  0.16583441\n",
      "  -0.06347716 -0.02531203]]\n"
     ]
    }
   ],
   "source": [
    "# Read a sample image as input to test the model\n",
    "img = img2[...,::-1]\n",
    "img = np.around(np.transpose(img, (2,0,1))/255.0, decimals=12)\n",
    "x_train = np.array([img])\n",
    "y_p = FRmodel.predict_on_batch(x_train)\n",
    "print (y_p)"
   ]
  },
  {
   "cell_type": "code",
   "execution_count": 49,
   "metadata": {},
   "outputs": [
    {
     "name": "stdout",
     "output_type": "stream",
     "text": [
      "[[ 0.11937729  0.07323865  0.01832084 -0.04941032  0.10291766  0.22051692\n",
      "   0.07864244  0.04084835 -0.04863924 -0.07544192  0.01157876  0.0437857\n",
      "   0.13843454  0.05630936  0.04261133 -0.07641388  0.07106505 -0.0341705\n",
      "  -0.11806607  0.15942946  0.08418394  0.10964416 -0.03362305  0.12332542\n",
      "  -0.11529334 -0.11397544 -0.14995965 -0.0284775   0.04431283  0.10277456\n",
      "  -0.04917568  0.0268299  -0.0511611   0.09545946 -0.0008268   0.09130361\n",
      "   0.09032242  0.07778607 -0.08955834  0.00055231  0.0487622   0.05859488\n",
      "  -0.05047186 -0.15166505 -0.09437975  0.04488001  0.06043364  0.03569184\n",
      "  -0.09687302  0.07899421 -0.02211539 -0.00480432 -0.01112338  0.09145578\n",
      "   0.12447556  0.03757088 -0.06776695  0.09468384 -0.07056082 -0.06510363\n",
      "  -0.08751329  0.13012062  0.0826114  -0.26079461  0.01377799  0.0030481\n",
      "   0.11417202  0.06938665 -0.14836164 -0.02459354  0.10340751  0.01556352\n",
      "  -0.0134921  -0.01829056  0.05266656  0.15974827  0.01656939  0.00752547\n",
      "   0.11104233 -0.01516755  0.02263657  0.08813457  0.00759691  0.00666347\n",
      "   0.06791846  0.05014241  0.05189775  0.02809692 -0.01960582  0.15111448\n",
      "   0.11574891 -0.19661196  0.03772045  0.14117932 -0.11162843 -0.08778337\n",
      "   0.02682308 -0.03606341  0.00441655  0.02965513  0.10599209  0.0911274\n",
      "  -0.10194933  0.0720391  -0.21517876  0.13502543 -0.08923028 -0.07856356\n",
      "  -0.1012036   0.01841853  0.06063522  0.03004451 -0.0470082   0.02015592\n",
      "  -0.0360682   0.07152673 -0.15309653 -0.03827416 -0.15577535  0.08174127\n",
      "  -0.03944478 -0.03786792  0.03721174  0.05382159  0.01452485  0.15469991\n",
      "  -0.02770796 -0.11359208]]\n"
     ]
    }
   ],
   "source": [
    "# Read a sample image as input to test the model\n",
    "img = img3[...,::-1]\n",
    "img = np.around(np.transpose(img, (2,0,1))/255.0, decimals=12)\n",
    "x_train = np.array([img])\n",
    "y_n = FRmodel.predict_on_batch(x_train)\n",
    "print (y_n)"
   ]
  },
  {
   "cell_type": "code",
   "execution_count": null,
   "metadata": {
    "collapsed": true
   },
   "outputs": [],
   "source": [
    "diff_ap = np.linalg.norm(y_a - y_p)\n",
    "diff_an = np.linalg.norm(y_a - y_n)\n",
    "diff_pn = np.linalg.norm(y_n - y_p)\n",
    "print(diff_ap, diff_an, diff_pn)"
   ]
  },
  {
   "cell_type": "code",
   "execution_count": 100,
   "metadata": {
    "collapsed": true
   },
   "outputs": [],
   "source": [
    "def who_is_it(image_path, database):\n",
    "    \n",
    "    # Compute the embedding for the image\n",
    "    embedding = img_to_embedding(image_path)\n",
    "    \n",
    "    # Find the closest embedding\n",
    "    closest = None\n",
    "    min_dist = 100\n",
    "    for (name, emb) in database.items():\n",
    "        dist = np.linalg.norm(embedding - emb)\n",
    "        print(dist, name)\n",
    "        if dist < min_dist:\n",
    "            min_dist = dist\n",
    "            identity = name\n",
    "            \n",
    "    if min_dist > 0.6:\n",
    "        print(\"Not in the database.\")\n",
    "    else:\n",
    "        print (\"it's \" + str(identity) + \", the distance is \" + str(min_dist))\n",
    "    \n",
    "    return min_dist, identity"
   ]
  },
  {
   "cell_type": "code",
   "execution_count": 101,
   "metadata": {
    "scrolled": false
   },
   "outputs": [
    {
     "name": "stdout",
     "output_type": "stream",
     "text": [
      "0.547473 sebastiano\n",
      "0.495689 dan\n",
      "0.53355 bertrand\n",
      "0.605355 arnaud\n",
      "0.637707 kian\n",
      "0.68745 benoit\n",
      "it's dan, the distance is 0.495689\n"
     ]
    },
    {
     "data": {
      "text/plain": [
       "(0.49568868, 'dan')"
      ]
     },
     "execution_count": 101,
     "metadata": {},
     "output_type": "execute_result"
    }
   ],
   "source": [
    "who_is_it('images/test_5.jpg', database)"
   ]
  },
  {
   "cell_type": "code",
   "execution_count": null,
   "metadata": {
    "collapsed": true
   },
   "outputs": [],
   "source": [
    "FRmodel.fit(x = X_train, y = Y_train, epochs = 40, batch_size = 16)"
   ]
  }
 ],
 "metadata": {
  "kernelspec": {
   "display_name": "Python 3",
   "language": "python",
   "name": "python3"
  },
  "language_info": {
   "codemirror_mode": {
    "name": "ipython",
    "version": 3
   },
   "file_extension": ".py",
   "mimetype": "text/x-python",
   "name": "python",
   "nbconvert_exporter": "python",
   "pygments_lexer": "ipython3",
   "version": "3.5.3"
  }
 },
 "nbformat": 4,
 "nbformat_minor": 2
}
